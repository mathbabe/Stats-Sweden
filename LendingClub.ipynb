{
 "cells": [
  {
   "cell_type": "markdown",
   "metadata": {},
   "source": [
    "Cleaning data: Lending Club\n",
    "=========\n",
    "***\n",
    "\n",
    "\n",
    "The [Lending Club](http://www.lendingclub.com) is a peer-to-peer lending site where members make loans to each other.\n",
    "The site makes anonymized data on loans and borrowers publicly available.  We're going to use these data to explore how the interest rate charged on loans depends on various factors.\n",
    "\n",
    "\n",
    "1. Browse the data  \n",
    "2. Data cleanup  \n",
    "3. Visual exploration  \n"
   ]
  },
  {
   "cell_type": "markdown",
   "metadata": {},
   "source": [
    "## I. Browse Data\n",
    "\t\t \t \t\n",
    "The data have the following variables (with data type and explanation of meaning)\n",
    "\t\t\t\n",
    "* __Amount.Requested__ - _numeric_. The amount (in dollars) requested in the loan application.  \t\t\n",
    "  \n",
    "* __Amount.Funded.By.Investors__ - _numeric_.  The amount (in dollars) loaned to the individual.  \n",
    "\n",
    "* __Interest.rate__ – character. The lending interest rate charged to the borrower.  \n",
    "\n",
    "* __Loan.length__ - character. The length of time (in months) of the loan.    \t\t\t\n",
    "\n",
    "* __Loan.Purpose__ – categorical variable. The purpose of the loan as stated by the applicant.   \n",
    "\n",
    "* __Debt.to.Income.Ratio__ – character  The % of consumer’s gross income going toward paying debts.   \n",
    "\n",
    "* __State__ - character. The abbreviation for the U.S. state of residence of the loan applicant.   \n",
    "\n",
    "* __Home.ownership__ - character. Indicates whether the applicant owns, rents, or has a mortgage.   \n",
    "\n",
    "* __Monthly.income__ -­ categorical. The monthly income of the applicant (in dollars).  \n",
    "\n",
    "* __FICO.range__  – categorical (expressed as a string label e.g. “650-655”). A range indicating the applicants FICO score. \t\n",
    "\n",
    "* __Open.CREDIT.Lines__ - numeric. The number of open lines of credit at the time of application.  \n",
    "\n",
    "* __Revolving.CREDIT.Balance__ - numeric. The total amount outstanding all lines of credit.   \t\t\t\n",
    "\n",
    "* __Inquiries.in.the.Last.6.Months__ - numeric. Number of credit inquiries in the previous 6 months.  \n",
    "\n",
    "* __Employment.Length__ - character.  Length of time employed at current job.  \n",
    "\t\t"
   ]
  },
  {
   "cell_type": "markdown",
   "metadata": {},
   "source": [
    "## II. Data Cleanup \n",
    "\n",
    "We find the data are \"messy\" i.e aren't cleanly prepared for import - for instance numeric columns might have some strings in them.  This is very common in raw data especially that obtained from web sites.\n",
    "\n",
    "Let's take a look. we're going to look at the first five rows of some specific columns that show the data dirtiness issues."
   ]
  },
  {
   "cell_type": "code",
   "execution_count": 47,
   "metadata": {
    "collapsed": false
   },
   "outputs": [],
   "source": [
    "%matplotlib inline\n",
    "# first we ingest the data from the source on the web\n",
    "# this contains a reduced version of the data set from Lending Club\n",
    "import pandas as pd\n",
    "loansData = pd.read_csv('https://spark-public.s3.amazonaws.com/dataanalysis/loansData.csv')"
   ]
  },
  {
   "cell_type": "code",
   "execution_count": 48,
   "metadata": {
    "collapsed": false
   },
   "outputs": [
    {
     "data": {
      "text/plain": [
       "81174     8.90%\n",
       "99592    12.12%\n",
       "80059    21.98%\n",
       "15825     9.99%\n",
       "33182    11.71%\n",
       "Name: Interest.Rate, dtype: object"
      ]
     },
     "execution_count": 48,
     "metadata": {},
     "output_type": "execute_result"
    }
   ],
   "source": [
    "loansData['Interest.Rate'][0:5] # first five rows of Interest.Rate"
   ]
  },
  {
   "cell_type": "code",
   "execution_count": 49,
   "metadata": {
    "collapsed": false
   },
   "outputs": [
    {
     "data": {
      "text/plain": [
       "81174    36 months\n",
       "99592    36 months\n",
       "80059    60 months\n",
       "15825    36 months\n",
       "33182    36 months\n",
       "Name: Loan.Length, dtype: object"
      ]
     },
     "execution_count": 49,
     "metadata": {},
     "output_type": "execute_result"
    }
   ],
   "source": [
    "loansData['Loan.Length'][0:5] # first five rows of Loan.Length"
   ]
  },
  {
   "cell_type": "markdown",
   "metadata": {},
   "source": [
    "We see here that:\n",
    "\n",
    "* the interest rate information has \"%\" symbols in it.\n",
    "* loan length has \" months\" in it\n",
    "\n",
    "Other than that we can also see (exploration exercise):\n",
    "\n",
    "* there are a couple of values that are so large they must be typos\n",
    "* some values are missing \"NA\" values i.e. not available.\n",
    "* the FICO Range is really a numeric entity but is represented as a categorical variable in the data."
   ]
  },
  {
   "cell_type": "code",
   "execution_count": 50,
   "metadata": {
    "collapsed": false
   },
   "outputs": [
    {
     "data": {
      "text/plain": [
       "81174    735-739\n",
       "99592    715-719\n",
       "80059    690-694\n",
       "15825    695-699\n",
       "33182    695-699\n",
       "Name: FICO.Range, dtype: object"
      ]
     },
     "execution_count": 50,
     "metadata": {},
     "output_type": "execute_result"
    }
   ],
   "source": [
    "loansData['FICO.Range'][0:5] # first five rows of FICO.Range"
   ]
  },
  {
   "cell_type": "markdown",
   "metadata": {},
   "source": [
    "FICO Range is represented as a categorical variable in the data.\n",
    "\n",
    "We need to change the categorical variable for FICO Range into something numeric so that we can use it in our calculations.  As it stands, the values are merely labels, and while they convey meaning to humans, our software can't interpret them as the numbers they really represent.\n",
    "\n",
    "So as a first step, we convert them from categorical variables to strings.  So the abstract entity 735-739 becomes a string \"735-739\".\n",
    "Then we parse the strings so that a range such as \"735-739\" gets split into two numbers (735,739).\n",
    "\n",
    "Finally we pick a single number to represent this range. We could choose a midpoint but since the ranges are narrow we can get away with choosing one of the endpoints as a representative. Here we arbitrarily pick the lower limit and with some imperious hand waving, assert that it is not going to make a major difference to the outcome.\n",
    "\n",
    "In a further flourish of imperiousness we could declare that \"the proof is left as an exercise to the reader\". But in reality there is really no such formal \"proof\" other than trying it out in different ways and convincing oneself.  If we wanted to be mathematically conservative we could take the midpoint of the range as a representative and this would satisfy most pointy-haired mathematician bosses that \"Data Science Dilbert\" might encounter."
   ]
  },
  {
   "cell_type": "markdown",
   "metadata": {},
   "source": [
    "\n",
    "To summarize - cleaning our data involves:\n",
    "\n",
    "* removing % signs from rates\n",
    "* removing the word ” months\" from loan length.\n",
    "* managing outliers - remove such rows in this case\n",
    "* managing NA - remove such rows in this case\n",
    "\n",
    "There is one especially high outlier with monthly income > 100K$+.  \n",
    "This is likely to be a typo and is removed as a data item.  \n",
    "There is also one data item with all N/A - this is also removed.  "
   ]
  },
  {
   "cell_type": "code",
   "execution_count": 53,
   "metadata": {
    "collapsed": false
   },
   "outputs": [
    {
     "data": {
      "text/plain": [
       "81174     8.90\n",
       "99592    12.12\n",
       "80059    21.98\n",
       "15825     9.99\n",
       "33182    11.71\n",
       "Name: Interest.Rate, dtype: object"
      ]
     },
     "execution_count": 53,
     "metadata": {},
     "output_type": "execute_result"
    }
   ],
   "source": [
    "loansData['Interest.Rate'] = loansData['Interest.Rate'].map(lambda x: x.rstrip('%'))\n",
    "loansData['Interest.Rate'][0:5]"
   ]
  },
  {
   "cell_type": "code",
   "execution_count": 54,
   "metadata": {
    "collapsed": false
   },
   "outputs": [
    {
     "data": {
      "text/plain": [
       "81174    36\n",
       "99592    36\n",
       "80059    60\n",
       "15825    36\n",
       "33182    36\n",
       "Name: Loan.Length, dtype: object"
      ]
     },
     "execution_count": 54,
     "metadata": {},
     "output_type": "execute_result"
    }
   ],
   "source": [
    "loansData['Loan.Length'] = loansData['Loan.Length'].map(lambda x: x.rstrip(' months'))\n",
    "loansData['Loan.Length'][0:5]"
   ]
  },
  {
   "cell_type": "code",
   "execution_count": 55,
   "metadata": {
    "collapsed": false
   },
   "outputs": [
    {
     "data": {
      "text/plain": [
       "'36'"
      ]
     },
     "execution_count": 55,
     "metadata": {},
     "output_type": "execute_result"
    }
   ],
   "source": [
    "loansData['Loan.Length'].irow(5)"
   ]
  },
  {
   "cell_type": "markdown",
   "metadata": {},
   "source": [
    "##Exercise\n",
    "Actually perform each of the above steps on the dataset i.e.\n",
    "\n",
    "* import the data\n",
    "* remove the '%' suffix from each row\n",
    "* remove the ' months' suffix from each row\n",
    "* remove the outlier rows\n",
    "* remove rows with NA\n",
    "\n",
    "Save your code in a reusable manner - these are steps you'll be doing repeatedly.\n"
   ]
  },
  {
   "cell_type": "markdown",
   "metadata": {},
   "source": [
    "##Visual Exploration  \n",
    "\n",
    "Now we are going to follow a standard set of steps in exploring data.  We apply the following simple visualizations. This is something we will typically also do for other data sets we encounter in other explorations.  \n",
    "\n",
    "###Histogram\n",
    "\n",
    "A histogram shows us the shape of the distribution of values for a **single** variable.\n",
    "On the x-axis we have the variable under question, divided into buckets or bins.  This is a key feature of a histogram.\n",
    "\n",
    "The bin size is adjustable and different bin sizes give different information.  A large bin size gives us an idea of the coarser grained structure of the distribution while a smaller bin size will shine light on the finer details of the distribution.  In either case we can compare distributions, or quickly identify some key hints that tell use how best to proceed.\n",
    "\n",
    "With the distribution of FICO scores we see the histogram below."
   ]
  },
  {
   "cell_type": "code",
   "execution_count": 56,
   "metadata": {
    "collapsed": false
   },
   "outputs": [
    {
     "data": {
      "image/png": "[encoded data removed]",
      "text/plain": [
       "<matplotlib.figure.Figure at 0x10be52810>"
      ]
     },
     "metadata": {},
     "output_type": "display_data"
    }
   ],
   "source": [
    "import matplotlib.pyplot as plt\n",
    "import pandas as pd\n",
    "plt.figure()\n",
    "#loansmin = pd.read_csv('../datasets/loanf.csv')\n",
    "LL = loansData['Loan.Length']\n",
    "LLC = LL.dropna()\n",
    "LLCF = LLC.astype(float)\n",
    "p = LLCF.hist()"
   ]
  },
  {
   "cell_type": "code",
   "execution_count": 58,
   "metadata": {
    "collapsed": false
   },
   "outputs": [
    {
     "data": {
      "text/plain": [
       "81174    739\n",
       "99592    719\n",
       "80059    694\n",
       "15825    699\n",
       "33182    699\n",
       "Name: FICO, dtype: object"
      ]
     },
     "execution_count": 58,
     "metadata": {},
     "output_type": "execute_result"
    }
   ],
   "source": [
    "loansData['FICO'] = loansData['FICO.Range'].map(lambda x: x.split('-')[1])\n",
    "loansData['FICO'][0:5]"
   ]
  },
  {
   "cell_type": "code",
   "execution_count": 59,
   "metadata": {
    "collapsed": false
   },
   "outputs": [
    {
     "data": {
      "image/png": "[encoded data removed]",
      "text/plain": [
       "<matplotlib.figure.Figure at 0x10c84c150>"
      ]
     },
     "metadata": {},
     "output_type": "display_data"
    }
   ],
   "source": [
    "FS = loansData['FICO']\n",
    "FSC = FS.dropna()\n",
    "FSCF = FSC.astype(float)\n",
    "p = FSCF.hist()"
   ]
  },
  {
   "cell_type": "code",
   "execution_count": null,
   "metadata": {
    "collapsed": true
   },
   "outputs": [],
   "source": []
  }
 ],
 "metadata": {
  "kernelspec": {
   "display_name": "Python 2",
   "language": "python",
   "name": "python2"
  },
  "language_info": {
   "codemirror_mode": {
    "name": "ipython",
    "version": 2
   },
   "file_extension": ".py",
   "mimetype": "text/x-python",
   "name": "python",
   "nbconvert_exporter": "python",
   "pygments_lexer": "ipython2",
   "version": "2.7.9"
  }
 },
 "nbformat": 4,
 "nbformat_minor": 0
}
