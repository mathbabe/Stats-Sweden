{
 "cells": [
  {
   "cell_type": "markdown",
   "metadata": {},
   "source": [
    "Code taken from: https://gist.github.com/ErikBjare/11092794\n",
    "\n",
    "Need to start up MongoDB in terminal (after installing) with \"mongod\" "
   ]
  },
  {
   "cell_type": "code",
   "execution_count": 1,
   "metadata": {
    "collapsed": true
   },
   "outputs": [],
   "source": [
    "from datetime import datetime, timedelta\n",
    "\n",
    "import pymongo\n",
    "from pymongo import MongoClient"
   ]
  },
  {
   "cell_type": "code",
   "execution_count": 2,
   "metadata": {
    "collapsed": true
   },
   "outputs": [],
   "source": [
    "client = MongoClient(\"localhost\", 27017)\n",
    "db = client.test_database"
   ]
  },
  {
   "cell_type": "code",
   "execution_count": 4,
   "metadata": {
    "collapsed": false
   },
   "outputs": [
    {
     "data": {
      "text/plain": [
       "Collection(Database(MongoClient('localhost', 27017), u'test_database'), u'test')"
      ]
     },
     "execution_count": 4,
     "metadata": {},
     "output_type": "execute_result"
    }
   ],
   "source": [
    "db.create_collection(\"test\")"
   ]
  },
  {
   "cell_type": "code",
   "execution_count": 5,
   "metadata": {
    "collapsed": false
   },
   "outputs": [
    {
     "data": {
      "text/plain": [
       "[u'system.indexes', u'test']"
      ]
     },
     "execution_count": 5,
     "metadata": {},
     "output_type": "execute_result"
    }
   ],
   "source": [
    "db.collection_names()"
   ]
  },
  {
   "cell_type": "code",
   "execution_count": 6,
   "metadata": {
    "collapsed": false
   },
   "outputs": [
    {
     "data": {
      "text/plain": [
       "{u'_id': ObjectId('562e44a14ea62f2eb01f8e64'),\n",
       " u'users': [{u'name': u'Erik Bj\\xe4reholt', u'nick': u'erb'}]}"
      ]
     },
     "execution_count": 6,
     "metadata": {},
     "output_type": "execute_result"
    }
   ],
   "source": [
    "db.test.insert({\"users\": [{\"name\": \"Erik Bjäreholt\", \"nick\": \"erb\"}]})\n",
    "db.test.find_one({\"users\": [{\"name\": \"Erik Bjäreholt\", \"nick\": \"erb\"}]})"
   ]
  },
  {
   "cell_type": "code",
   "execution_count": 7,
   "metadata": {
    "collapsed": false
   },
   "outputs": [
    {
     "data": {
      "text/plain": [
       "[u'system.indexes']"
      ]
     },
     "execution_count": 7,
     "metadata": {},
     "output_type": "execute_result"
    }
   ],
   "source": [
    "db.drop_collection(\"test\")\n",
    "db.collection_names()"
   ]
  },
  {
   "cell_type": "code",
   "execution_count": 8,
   "metadata": {
    "collapsed": true
   },
   "outputs": [],
   "source": [
    "db.drop_collection(\"lifelogger-users\")\n",
    "db.drop_collection(\"lifelogger-sheets\")"
   ]
  },
  {
   "cell_type": "code",
   "execution_count": 9,
   "metadata": {
    "collapsed": true
   },
   "outputs": [],
   "source": [
    "users = db.create_collection(\"lifelogger-users\")\n",
    "sheets = db.create_collection(\"lifelogger-sheets\")"
   ]
  },
  {
   "cell_type": "code",
   "execution_count": 10,
   "metadata": {
    "collapsed": true
   },
   "outputs": [],
   "source": [
    "user_erb = users.insert({\"username\": \"erb\", \"name\": \"Erik Bjäreholt\", \"email\": \"erik.bjareholt@gmail.com\"})\n",
    "user_tester = users.insert({\"username\": \"tester\", \"name\": \"Test McTest\", \"email\": \"tester@example.com\"})"
   ]
  },
  {
   "cell_type": "code",
   "execution_count": 11,
   "metadata": {
    "collapsed": true
   },
   "outputs": [],
   "source": [
    "user_erb = users.find_one({\"username\": \"erb\"})"
   ]
  },
  {
   "cell_type": "code",
   "execution_count": 15,
   "metadata": {
    "collapsed": false
   },
   "outputs": [
    {
     "data": {
      "text/plain": [
       "{u'_id': ObjectId('562e45024ea62f2eb01f8e65'),\n",
       " u'email': u'erik.bjareholt@gmail.com',\n",
       " u'name': u'Erik Bj\\xe4reholt',\n",
       " u'username': u'erb'}"
      ]
     },
     "execution_count": 15,
     "metadata": {},
     "output_type": "execute_result"
    }
   ],
   "source": [
    "user_erb"
   ]
  },
  {
   "cell_type": "code",
   "execution_count": 12,
   "metadata": {
    "collapsed": true
   },
   "outputs": [],
   "source": [
    "class Sheet():\n",
    "    \"\"\"Baseclass for all logging-sheets\"\"\"\n",
    "    \n",
    "    def __init__(self, user, year=None, month=None):\n",
    "        documents = sheets.find({\"username\": user[\"username\"]})\n",
    "        if year and month:\n",
    "            d = datetime(year, month, 1)\n",
    "        elif year or month:\n",
    "            raise ValueError(\"You must specify both year and month, or neither.\")\n",
    "        else:\n",
    "            d = datetime.now()\n",
    "        found = False\n",
    "        for document in documents:\n",
    "            if document and document[\"year\"] == d.year and document[\"month\"] == d.month:\n",
    "                found = True\n",
    "                break\n",
    "        if not found:\n",
    "            document = {\"username\": user[\"username\"],\n",
    "                        \"columns\": {\"mood\": {\"08:00\": [], \"12:00\": [], \"20:00\": []},\n",
    "                                    \"productivity\": {\"08:00\": [], \"12:00\": [], \"20:00\": []},\n",
    "                                    \"exercise\": {\"running\": [], \"gym\": [], \"home\": []}},\n",
    "                        \"year\": d.year,\n",
    "                        \"month\": d.month}\n",
    "            sheets.insert(document)\n",
    "        self.data = document\n",
    "            \n",
    "    def __repr__(self):\n",
    "        return str(self.data)"
   ]
  },
  {
   "cell_type": "code",
   "execution_count": 13,
   "metadata": {
    "collapsed": true
   },
   "outputs": [],
   "source": [
    "sheet_erb = Sheet(user_erb)\n",
    "sheet_erb_2013_1 = Sheet(user_erb, year=2013, month=1)"
   ]
  },
  {
   "cell_type": "code",
   "execution_count": 14,
   "metadata": {
    "collapsed": false
   },
   "outputs": [
    {
     "name": "stdout",
     "output_type": "stream",
     "text": [
      "{u'username': u'erb', u'_id': ObjectId('562e45324ea62f2eb01f8e67'), u'year': 2015, u'columns': {u'productivity': {u'12:00': [], u'20:00': [], u'08:00': []}, u'mood': {u'12:00': [], u'20:00': [], u'08:00': []}, u'exercise': {u'home': [], u'running': [], u'gym': []}}, u'month': 10}\n",
      "{u'username': u'erb', u'_id': ObjectId('562e45324ea62f2eb01f8e68'), u'year': 2013, u'columns': {u'productivity': {u'12:00': [], u'20:00': [], u'08:00': []}, u'mood': {u'12:00': [], u'20:00': [], u'08:00': []}, u'exercise': {u'home': [], u'running': [], u'gym': []}}, u'month': 1}\n"
     ]
    }
   ],
   "source": [
    "for sheet in sheets.find():\n",
    "    print(sheet)"
   ]
  },
  {
   "cell_type": "markdown",
   "metadata": {},
   "source": [
    "Check out the tutorial here: http://api.mongodb.org/python/current/tutorial.html"
   ]
  }
 ],
 "metadata": {
  "kernelspec": {
   "display_name": "Python 2",
   "language": "python",
   "name": "python2"
  },
  "language_info": {
   "codemirror_mode": {
    "name": "ipython",
    "version": 2
   },
   "file_extension": ".py",
   "mimetype": "text/x-python",
   "name": "python",
   "nbconvert_exporter": "python",
   "pygments_lexer": "ipython2",
   "version": "2.7.9"
  }
 },
 "nbformat": 4,
 "nbformat_minor": 0
}
