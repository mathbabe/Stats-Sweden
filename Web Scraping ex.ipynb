{
 "cells": [
  {
   "cell_type": "markdown",
   "metadata": {},
   "source": [
    "Googled for \"examples of web scraping\", found http://docs.python-guide.org/en/latest/scenarios/scrape/."
   ]
  },
  {
   "cell_type": "code",
   "execution_count": 1,
   "metadata": {
    "collapsed": true
   },
   "outputs": [],
   "source": [
    "from lxml import html\n",
    "import requests"
   ]
  },
  {
   "cell_type": "code",
   "execution_count": 2,
   "metadata": {
    "collapsed": true
   },
   "outputs": [],
   "source": [
    "page = requests.get('http://econpy.pythonanywhere.com/ex/001.html')\n",
    "tree = html.fromstring(page.text)"
   ]
  },
  {
   "cell_type": "code",
   "execution_count": 3,
   "metadata": {
    "collapsed": false
   },
   "outputs": [],
   "source": [
    "from lxml import etree"
   ]
  },
  {
   "cell_type": "markdown",
   "metadata": {},
   "source": [
    "Go to the webpage (using Chrome) and right click on the thing you're interested in. Then \"inspect element,\" and then right click again to \"cope XPath\". This now refers to this element:"
   ]
  },
  {
   "cell_type": "code",
   "execution_count": 4,
   "metadata": {
    "collapsed": false
   },
   "outputs": [
    {
     "data": {
      "text/plain": [
       "[<Element div at 0x104e73788>]"
      ]
     },
     "execution_count": 4,
     "metadata": {},
     "output_type": "execute_result"
    }
   ],
   "source": [
    "tree.xpath('/html/body/div[7]/div')"
   ]
  },
  {
   "cell_type": "code",
   "execution_count": 5,
   "metadata": {
    "collapsed": false
   },
   "outputs": [
    {
     "data": {
      "text/plain": [
       "[<Element span at 0x104e73890>]"
      ]
     },
     "execution_count": 5,
     "metadata": {},
     "output_type": "execute_result"
    }
   ],
   "source": [
    "tree.xpath('/html/body/div[7]/span')"
   ]
  },
  {
   "cell_type": "markdown",
   "metadata": {},
   "source": [
    "Now use the information you've learned to collect all the names and prices in one place."
   ]
  },
  {
   "cell_type": "code",
   "execution_count": 6,
   "metadata": {
    "collapsed": true
   },
   "outputs": [],
   "source": [
    "#This will create a list of buyers:\n",
    "buyers = tree.xpath('//div[@title=\"buyer-name\"]/text()')\n",
    "#This will create a list of prices\n",
    "prices = tree.xpath('//span[@class=\"item-price\"]/text()')"
   ]
  },
  {
   "cell_type": "code",
   "execution_count": 7,
   "metadata": {
    "collapsed": false
   },
   "outputs": [
    {
     "name": "stdout",
     "output_type": "stream",
     "text": [
      "Buyers:  ['Carson Busses', 'Earl E. Byrd', 'Patty Cakes', 'Derri Anne Connecticut', 'Moe Dess', 'Leda Doggslife', 'Dan Druff', 'Al Fresco', 'Ido Hoe', 'Howie Kisses', 'Len Lease', 'Phil Meup', 'Ira Pent', 'Ben D. Rules', 'Ave Sectomy', 'Gary Shattire', 'Bobbi Soks', 'Sheila Takya', 'Rose Tattoo', 'Moe Tell']\n",
      "Prices:  ['$29.95', '$8.37', '$15.26', '$19.25', '$19.25', '$13.99', '$31.57', '$8.49', '$14.47', '$15.86', '$11.11', '$15.98', '$16.27', '$7.50', '$50.85', '$14.26', '$5.68', '$15.00', '$114.07', '$10.09']\n"
     ]
    }
   ],
   "source": [
    "print 'Buyers: ', buyers\n",
    "print 'Prices: ', prices"
   ]
  },
  {
   "cell_type": "markdown",
   "metadata": {},
   "source": [
    "Let's try it on another website."
   ]
  },
  {
   "cell_type": "code",
   "execution_count": 8,
   "metadata": {
    "collapsed": true
   },
   "outputs": [],
   "source": [
    "page2 = requests.get('http://mathbabe.org/2015/10/22/the-internet-is-no-place-for-conversation/')\n",
    "tree2 = html.fromstring(page2.text)"
   ]
  },
  {
   "cell_type": "code",
   "execution_count": 9,
   "metadata": {
    "collapsed": false
   },
   "outputs": [
    {
     "data": {
      "text/plain": [
       "[<Element a at 0x107179520>]"
      ]
     },
     "execution_count": 9,
     "metadata": {},
     "output_type": "execute_result"
    }
   ],
   "source": [
    "tree2.xpath('//*[@id=\"post-10110\"]/div[2]/p[3]/a')"
   ]
  },
  {
   "cell_type": "code",
   "execution_count": 10,
   "metadata": {
    "collapsed": false
   },
   "outputs": [
    {
     "data": {
      "text/plain": [
       "[' on calculating the chances that a 20 person panel at a math conference would contain only one woman.']"
      ]
     },
     "execution_count": 10,
     "metadata": {},
     "output_type": "execute_result"
    }
   ],
   "source": [
    "tree2.xpath('//*[@id=\"post-10110\"]/div[2]/p[3]/text()[2]')"
   ]
  },
  {
   "cell_type": "code",
   "execution_count": 11,
   "metadata": {
    "collapsed": false
   },
   "outputs": [
    {
     "data": {
      "text/plain": [
       "[<Element a at 0x1071796d8>]"
      ]
     },
     "execution_count": 11,
     "metadata": {},
     "output_type": "execute_result"
    }
   ],
   "source": [
    "tree2.xpath('//*[@id=\"post-10110\"]/div[2]/p[4]/a')"
   ]
  },
  {
   "cell_type": "code",
   "execution_count": 12,
   "metadata": {
    "collapsed": true
   },
   "outputs": [],
   "source": [
    "links_text = tree2.xpath('//a/text()')"
   ]
  },
  {
   "cell_type": "code",
   "execution_count": 26,
   "metadata": {
    "collapsed": false
   },
   "outputs": [
    {
     "data": {
      "text/plain": [
       "['mathbabe',\n",
       " 'Home',\n",
       " 'About',\n",
       " 'HCSSiM 2012',\n",
       " 'Cool math books',\n",
       " 'Home',\n",
       " 'Uncategorized',\n",
       " \"Cathy O'Neil, mathbabe\",\n",
       " 'Leave a comment',\n",
       " 'Go to comments',\n",
       " 'this Atlantic article',\n",
       " 'the probability mass function from a binomial distribution',\n",
       " u'Here\\u2019s a good explanation',\n",
       " 'Uncategorized',\n",
       " '\\n\\t\\t\\t\\t\\tComments (3)\\t\\t\\t\\t',\n",
       " '\\n\\t\\t\\t\\t\\tTrackbacks (0)\\t\\t\\t\\t',\n",
       " 'Leave a comment',\n",
       " 'Trackback',\n",
       " 'Reply',\n",
       " 'Shecky R',\n",
       " 'Reply',\n",
       " 'JamesNT',\n",
       " 'Reply',\n",
       " 'Cancel reply',\n",
       " '\\n\\t\\t\\t\\t\\t',\n",
       " '\\n\\t\\t\\t\\t',\n",
       " '\\n\\t\\t\\t\\t\\t',\n",
       " '\\n\\t\\t\\t\\t',\n",
       " '\\n\\t\\t\\t\\t\\t',\n",
       " '\\n\\t\\t\\t\\t',\n",
       " '\\n\\t\\t\\t\\t\\t',\n",
       " '\\n\\t\\t\\t\\t',\n",
       " '\\t\\t\\t\\t',\n",
       " '\\n',\n",
       " u'Log\\xa0Out',\n",
       " 'Change',\n",
       " u'Log\\xa0Out',\n",
       " 'Change',\n",
       " u'Log\\xa0Out',\n",
       " 'Change',\n",
       " u'Log\\xa0Out',\n",
       " 'Change',\n",
       " 'Cancel',\n",
       " u'Minority homeownership and\\xa0wealth-creation',\n",
       " ' feed',\n",
       " 'here',\n",
       " 'Guest post: Dirty Rant About The Human Brain Project',\n",
       " 'Minority homeownership and wealth-creation',\n",
       " 'The internet is no place for conversation',\n",
       " 'About',\n",
       " 'Crowdsourcing a Theranos test?',\n",
       " 'Cool math books',\n",
       " 'Why log returns?',\n",
       " 'Microfinance is mostly a scam',\n",
       " 'K-Nearest Neighbors: dangerously simple',\n",
       " 'Romance and math meetings',\n",
       " u'I\\u2019m now on twitter\\u2026',\n",
       " ' wp.me/p1CO0X-2D4',\n",
       " u'1\\xa0hour\\xa0ago',\n",
       " '#Theranos',\n",
       " u'20\\xa0hours\\xa0ago',\n",
       " '#Theranos',\n",
       " u'20\\xa0hours\\xa0ago',\n",
       " 'mims',\n",
       " u'20\\xa0hours\\xa0ago',\n",
       " '#theranos',\n",
       " u' blogs.wsj.com/digits/2015/10\\u2026',\n",
       " u'21\\xa0hours\\xa0ago',\n",
       " 'Follow @mathbabedotorg',\n",
       " u'The internet is no place for\\xa0conversation',\n",
       " u'Minority homeownership and\\xa0wealth-creation',\n",
       " u'Guest post: Dirty Rant About The Human Brain\\xa0Project',\n",
       " u'Crowdsourcing a Theranos\\xa0test?',\n",
       " u'Aunt Pythia\\u2019s advice',\n",
       " u'Romance and math\\xa0meetings',\n",
       " u'Microfinance is mostly a\\xa0scam',\n",
       " u'Aunt Pythia\\u2019s advice',\n",
       " 'Alternative Banking website',\n",
       " 'Interfluidity',\n",
       " 'Naked Capitalism',\n",
       " 'Not Even Wrong',\n",
       " 'Quomodocumque',\n",
       " 'Statistical Modeling, Causal Inference, and Social Science',\n",
       " 'Stats.org',\n",
       " 'Straight Statistics',\n",
       " 'The Stacks Project Blog',\n",
       " 'Register',\n",
       " 'Log in',\n",
       " 'Entries ',\n",
       " 'Comments ',\n",
       " 'Blog at WordPress.com',\n",
       " 'Top',\n",
       " 'Blog at WordPress.com',\n",
       " 'The INove Theme',\n",
       " 'Build a website with WordPress.com']"
      ]
     },
     "execution_count": 26,
     "metadata": {},
     "output_type": "execute_result"
    }
   ],
   "source": [
    "links_text"
   ]
  },
  {
   "cell_type": "code",
   "execution_count": 32,
   "metadata": {
    "collapsed": false
   },
   "outputs": [],
   "source": [
    "links_urls = tree2.xpath('//a/@href')"
   ]
  },
  {
   "cell_type": "code",
   "execution_count": 33,
   "metadata": {
    "collapsed": false
   },
   "outputs": [
    {
     "data": {
      "text/plain": [
       "['http://mathbabe.org/',\n",
       " 'http://mathbabe.org/',\n",
       " 'http://mathbabe.org/about/',\n",
       " 'http://mathbabe.org/hcssim-2012/',\n",
       " 'http://mathbabe.org/cool-math-books/',\n",
       " 'javascript:void(0);',\n",
       " 'http://mathbabe.org/',\n",
       " 'http://mathbabe.org/category/uncategorized/',\n",
       " 'http://mathbabe.org/author/mathbabe/',\n",
       " '#respond',\n",
       " '#comments',\n",
       " 'http://www.theatlantic.com/business/archive/2015/10/the-odds-that-a-panel-would-randomly-be-all-men-are-astronomical/411505/#article-comments',\n",
       " 'https://en.wikipedia.org/wiki/Binomial_distribution#Probability_mass_function',\n",
       " 'http://jezebel.com/5985635/an-idiots-guide-to-free-speech',\n",
       " 'http://mathbabe.org/2015/10/22/the-internet-is-no-place-for-conversation/?share=twitter',\n",
       " 'http://mathbabe.org/2015/10/22/the-internet-is-no-place-for-conversation/?share=facebook',\n",
       " 'http://mathbabe.org/2015/10/22/the-internet-is-no-place-for-conversation/?share=google-plus-1',\n",
       " 'http://mathbabe.org/2015/10/22/the-internet-is-no-place-for-conversation/?share=linkedin',\n",
       " 'http://mathbabe.org/category/uncategorized/',\n",
       " 'javascript:void(0);',\n",
       " 'javascript:void(0);',\n",
       " '#respond',\n",
       " 'http://mathbabe.org/2015/10/22/the-internet-is-no-place-for-conversation/trackback/',\n",
       " 'http://mathbabe.org/2015/10/22/the-internet-is-no-place-for-conversation/?replytocom=89053#respond',\n",
       " 'http://math-frolic.blogspot.com',\n",
       " 'http://mathbabe.org/2015/10/22/the-internet-is-no-place-for-conversation/?replytocom=89055#respond',\n",
       " 'http://jamesnt.wordpress.com/',\n",
       " 'http://mathbabe.org/2015/10/22/the-internet-is-no-place-for-conversation/?replytocom=89057#respond',\n",
       " '/2015/10/22/the-internet-is-no-place-for-conversation/#respond',\n",
       " '#comment-form-guest',\n",
       " '#comment-form-load-service:WordPress.com',\n",
       " '#comment-form-load-service:Twitter',\n",
       " '#comment-form-load-service:Facebook',\n",
       " 'https://gravatar.com/site/signup/',\n",
       " \"javascript:HighlanderComments.doExternalLogout( 'wordpress' );\",\n",
       " '#',\n",
       " \"javascript:HighlanderComments.doExternalLogout( 'twitter' );\",\n",
       " '#',\n",
       " \"javascript:HighlanderComments.doExternalLogout( 'facebook' );\",\n",
       " '#',\n",
       " \"javascript:HighlanderComments.doExternalLogout( 'googleplus' );\",\n",
       " '#',\n",
       " 'javascript:HighlanderComments.cancelExternalWindow();',\n",
       " 'http://mathbabe.org/2015/10/21/minority-homeownership-and-wealth-creation/',\n",
       " 'http://mathbabe.org/feed/',\n",
       " 'http://fusion.google.com/add?feedurl=http://mathbabe.org/feed/',\n",
       " 'http://reader.youdao.com/#url=http://mathbabe.org/feed/',\n",
       " 'http://www.xianguo.com/subscribe.php?url=http://mathbabe.org/feed/',\n",
       " 'http://www.zhuaxia.com/add_channel.php?url=http://mathbabe.org/feed/',\n",
       " 'http://add.my.yahoo.com/rss?url=http://mathbabe.org/feed/',\n",
       " 'http://www.newsgator.com/ngs/subscriber/subfext.aspx?url=http://mathbabe.org/feed/',\n",
       " 'http://www.bloglines.com/sub/http://mathbabe.org/feed/',\n",
       " 'http://inezha.com/add?url=http://mathbabe.org/feed/',\n",
       " 'http://mathbabe.files.wordpress.com/2013/02/mathbabe_sq_revised.png',\n",
       " 'https://www.dropbox.com/s/jb3tvdcvysq7afp/Occupy%20Finance_secondprinting.pdf',\n",
       " 'https://www.dropbox.com/s/jb3tvdcvysq7afp/Occupy%20Finance_secondprinting.pdf',\n",
       " 'http://mathbabe.org/2015/10/20/guest-post-dirty-rant-about-the-human-brain-project/',\n",
       " 'http://mathbabe.org/2015/10/21/minority-homeownership-and-wealth-creation/',\n",
       " 'http://mathbabe.org/2015/10/22/the-internet-is-no-place-for-conversation/',\n",
       " 'http://mathbabe.org/about/',\n",
       " 'http://mathbabe.org/2015/10/19/crowdsourcing-a-theranos-test/',\n",
       " 'http://mathbabe.org/cool-math-books/',\n",
       " 'http://mathbabe.org/2011/08/30/why-log-returns/',\n",
       " 'http://mathbabe.org/2015/10/13/microfinance-is-mostly-a-scam/',\n",
       " 'http://mathbabe.org/2013/04/04/k-nearest-neighbors-dangerously-simple/',\n",
       " 'http://mathbabe.org/2015/10/14/romance-and-math-meetings/',\n",
       " 'http://twitter.com/mathbabedotorg',\n",
       " 'http://wp.me/p1CO0X-2D4',\n",
       " 'http://twitter.com/mathbabedotorg/statuses/657154065290391552',\n",
       " 'http://twitter.com/search?q=%23Theranos',\n",
       " 'http://twitter.com/mathbabedotorg/statuses/656867531223863296',\n",
       " 'http://twitter.com/search?q=%23Theranos',\n",
       " 'http://twitter.com/mathbabedotorg/statuses/656867086434750464',\n",
       " 'http://twitter.com/mims',\n",
       " 'http://twitter.com/mathbabedotorg/statuses/656866700575571969',\n",
       " 'http://twitter.com/search?q=%23theranos',\n",
       " 'http://blogs.wsj.com/digits/2015/10/21/theranos-ceo-elizabeth-holmes-goes-on-stage-at-wsjdlive-2015-live-blog/',\n",
       " 'http://twitter.com/mathbabedotorg/statuses/656861053784096768',\n",
       " 'http://twitter.com/mathbabedotorg',\n",
       " 'http://mathbabe.org/2015/10/22/the-internet-is-no-place-for-conversation/',\n",
       " 'http://mathbabe.org/2015/10/21/minority-homeownership-and-wealth-creation/',\n",
       " 'http://mathbabe.org/2015/10/20/guest-post-dirty-rant-about-the-human-brain-project/',\n",
       " 'http://mathbabe.org/2015/10/19/crowdsourcing-a-theranos-test/',\n",
       " 'http://mathbabe.org/2015/10/18/aunt-pythias-advice-90/',\n",
       " 'http://mathbabe.org/2015/10/14/romance-and-math-meetings/',\n",
       " 'http://mathbabe.org/2015/10/13/microfinance-is-mostly-a-scam/',\n",
       " 'http://mathbabe.org/2015/10/10/aunt-pythias-advice-89/',\n",
       " 'https://altbanking.net/',\n",
       " 'http://www.interfluidity.com/',\n",
       " 'http://www.nakedcapitalism.com/',\n",
       " 'http://www.math.columbia.edu/~woit/wordpress/',\n",
       " 'http://quomodocumque.wordpress.com/',\n",
       " 'http://www.stat.columbia.edu/~cook/movabletype/mlm/',\n",
       " 'http://www.stats.org/',\n",
       " 'http://www.straightstatistics.org/',\n",
       " 'http://math.columbia.edu/~dejong/wordpress/',\n",
       " 'https://wordpress.com/start?ref=wplogin',\n",
       " 'https://mathbabe.wordpress.com/wp-login.php',\n",
       " 'http://mathbabe.org/feed/',\n",
       " 'http://mathbabe.org/comments/feed/',\n",
       " 'https://wordpress.com/?ref=footer_blog',\n",
       " '#',\n",
       " 'https://wordpress.com/?ref=footer_blog',\n",
       " 'https://wordpress.com/themes/inove/',\n",
       " 'javascript:void(0)',\n",
       " 'https://wordpress.com/?ref=lof']"
      ]
     },
     "execution_count": 33,
     "metadata": {},
     "output_type": "execute_result"
    }
   ],
   "source": [
    "links_urls"
   ]
  },
  {
   "cell_type": "code",
   "execution_count": null,
   "metadata": {
    "collapsed": true
   },
   "outputs": [],
   "source": []
  }
 ],
 "metadata": {
  "kernelspec": {
   "display_name": "Python 2",
   "language": "python",
   "name": "python2"
  },
  "language_info": {
   "codemirror_mode": {
    "name": "ipython",
    "version": 2
   },
   "file_extension": ".py",
   "mimetype": "text/x-python",
   "name": "python",
   "nbconvert_exporter": "python",
   "pygments_lexer": "ipython2",
   "version": "2.7.9"
  }
 },
 "nbformat": 4,
 "nbformat_minor": 0
}
